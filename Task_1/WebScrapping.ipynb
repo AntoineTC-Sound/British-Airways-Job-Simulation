{
 "cells": [
  {
   "cell_type": "markdown",
   "metadata": {},
   "source": [
    "# Task 1\n",
    "\n",
    "---\n",
    "\n",
    "## Web scraping and analysis\n",
    "\n",
    "This Jupyter notebook includes some code to get you started with web scraping. We will use a package called `BeautifulSoup` to collect the data from the web. Once you've collected your data and saved it into a local `.csv` file you should start with your analysis.\n",
    "\n",
    "### Scraping data from Skytrax\n",
    "\n",
    "If you visit [https://www.airlinequality.com] you can see that there is a lot of data there. For this task, we are only interested in reviews related to British Airways and the Airline itself.\n",
    "\n",
    "If you navigate to this link: [https://www.airlinequality.com/airline-reviews/british-airways] you will see this data. Now, we can use `Python` and `BeautifulSoup` to collect all the links to the reviews and then to collect the text data on each of the individual review links."
   ]
  },
  {
   "cell_type": "code",
   "execution_count": 1,
   "metadata": {},
   "outputs": [],
   "source": [
    "import requests\n",
    "from bs4 import BeautifulSoup\n",
    "import pandas as pd"
   ]
  },
  {
   "cell_type": "code",
   "execution_count": 2,
   "metadata": {},
   "outputs": [
    {
     "name": "stdout",
     "output_type": "stream",
     "text": [
      "Scraping page 1\n",
      "Scraping page 2\n",
      "Scraping page 3\n",
      "Scraping page 4\n",
      "Scraping page 5\n",
      "Scraping page 6\n",
      "Scraping page 7\n",
      "Scraping page 8\n",
      "Scraping page 9\n",
      "Scraping page 10\n"
     ]
    }
   ],
   "source": [
    "base_url = \"https://www.airlinequality.com/airline-reviews/british-airways\"\n",
    "pages = 10\n",
    "page_size = 100\n",
    "\n",
    "ratings = []\n",
    "info = {}\n",
    "\n",
    "# for i in range(1, pages + 1):\n",
    "for i in range(1, pages + 1):\n",
    "\n",
    "    print(f\"Scraping page {i}\")\n",
    "\n",
    "    # Create URL to collect links from paginated data\n",
    "    url = f\"{base_url}/page/{i}/?sortby=post_date%3ADesc&pagesize={page_size}\"\n",
    "\n",
    "    # Collect HTML data from this page\n",
    "    response = requests.get(url)\n",
    "    soup = BeautifulSoup(response.text, \"html.parser\")\n",
    "    \n",
    "    article = soup.find_all(\"span\", {\"itemprop\": \"ratingValue\"})\n",
    "    \n",
    "    for j in article:\n",
    "        ratings.append(j.text)\n",
    "        \n",
    "    type_travell = soup.find_all(\"table\", {\"class\": \"review-ratings\"})\n",
    "    \n",
    "    for k in range(len(type_travell)):\n",
    "        info[f'{i},{k}']=[]\n",
    "        inf = type_travell[k].find_all('tr')\n",
    "        for l in inf:\n",
    "            info[f'{i},{k}'].append(l.text)\n",
    "            "
   ]
  },
  {
   "cell_type": "code",
   "execution_count": 3,
   "metadata": {},
   "outputs": [],
   "source": [
    "filter_ratings = [element for element in ratings if '\\t' not in element]"
   ]
  },
  {
   "cell_type": "code",
   "execution_count": 4,
   "metadata": {},
   "outputs": [],
   "source": [
    "filter_info = {}\n",
    "keys_required = ['Type Of Traveller', 'Seat Type', 'Recommended']\n",
    "\n",
    "for key, values in info.items():\n",
    "    # filter the elements that contain the required keys\n",
    "    filtered = [value for value in values if any(req in value for req in keys_required)]\n",
    "    # verify that all requirements are present\n",
    "    if len(filtered) == len(keys_required):\n",
    "        filter_info[key] = filtered"
   ]
  },
  {
   "cell_type": "code",
   "execution_count": 5,
   "metadata": {},
   "outputs": [],
   "source": [
    "# Crear una lista para almacenar la información procesada\n",
    "processed_data = []\n",
    "\n",
    "# Procesar cada lista en el diccionario para extraer los datos\n",
    "for key, values in filter_info.items():\n",
    "    entry = {}\n",
    "    for value in values:\n",
    "        if 'Type Of Traveller' in value:\n",
    "            entry['Type Of Traveller'] = value.split('Type Of Traveller')[1].strip()\n",
    "        elif 'Seat Type' in value:\n",
    "            entry['Seat Type'] = value.split('Seat Type')[1].strip()\n",
    "        elif 'Recommended' in value:\n",
    "            entry['Recommended'] = value.split('Recommended')[1].strip()\n",
    "    processed_data.append(entry)\n",
    "\n",
    "# Crear un DataFrame con los datos procesados\n",
    "df_1 = pd.DataFrame(processed_data)"
   ]
  },
  {
   "cell_type": "code",
   "execution_count": 6,
   "metadata": {},
   "outputs": [],
   "source": [
    "df_2 = pd.DataFrame(filter_ratings, columns=['Rating_Over_10'])"
   ]
  },
  {
   "cell_type": "code",
   "execution_count": 9,
   "metadata": {},
   "outputs": [],
   "source": [
    "df = pd.concat([df_1, df_2], axis=1)\n",
    "df.dropna(inplace=True)"
   ]
  },
  {
   "cell_type": "code",
   "execution_count": 10,
   "metadata": {},
   "outputs": [],
   "source": [
    "df.to_csv('Data_Clean_BA.csv', index=False)"
   ]
  }
 ],
 "metadata": {
  "kernelspec": {
   "display_name": "Python 3 (ipykernel)",
   "language": "python",
   "name": "python3"
  },
  "language_info": {
   "codemirror_mode": {
    "name": "ipython",
    "version": 3
   },
   "file_extension": ".py",
   "mimetype": "text/x-python",
   "name": "python",
   "nbconvert_exporter": "python",
   "pygments_lexer": "ipython3",
   "version": "3.11.5"
  },
  "vscode": {
   "interpreter": {
    "hash": "4f7924c4c56b083e0e50eadfe7ef592a7a8ef70df33a0047f82280e6be1afe15"
   }
  }
 },
 "nbformat": 4,
 "nbformat_minor": 2
}
